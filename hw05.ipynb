{
  "cells": [
    {
      "cell_type": "markdown",
      "id": "d150bc21-aac7-4d00-8136-259a754e9eed",
      "metadata": {},
      "source": [
        "# BEE 4750 Homework 5: Solid Waste Disposal\n",
        "\n",
        "**Name**: Lesedi Kgatla\n",
        "\n",
        "**ID**: lk535\n",
        "\n",
        "> **Due Date**\n",
        ">\n",
        "> Friday, 11/10/23, 9:00pm\n",
        "\n",
        "## Overview"
      ]
    },
    {
      "cell_type": "markdown",
      "id": "0f5144ff-a99c-43e1-b180-aa978abf2c9b",
      "metadata": {},
      "source": [
        "### Instructions\n",
        "\n",
        "-   In Problem 1, you will formulate, solve, and analyze a standard\n",
        "    generating capacity expansion problem.\n",
        "-   In Problem 2, you will add a CO<sub>2</sub> constraint to the\n",
        "    capacity expansion problem and identify changes in the resulting\n",
        "    solution."
      ]
    },
    {
      "cell_type": "markdown",
      "id": "6b434ddc-db6e-4b87-bb3b-fbb64d3a8bbe",
      "metadata": {},
      "source": [
        "### Load Environment\n",
        "\n",
        "The following code loads the environment and makes sure all needed\n",
        "packages are installed. This should be at the start of most Julia\n",
        "scripts.\n",
        "\n",
        "``` julia\n",
        "import Pkg\n",
        "Pkg.activate(@__DIR__)\n",
        "Pkg.instantiate()\n",
        "```\n",
        "\n",
        "``` julia\n",
        "using JuMP\n",
        "using HiGHS\n",
        "using DataFrames\n",
        "using GraphRecipes\n",
        "using Plots\n",
        "using Measures\n",
        "using MarkdownTables\n",
        "```"
      ]
    },
    {
      "cell_type": "code",
      "execution_count": 1,
      "metadata": {},
      "outputs": [
        {
          "name": "stderr",
          "output_type": "stream",
          "text": [
            "\u001b[32m\u001b[1m  Activating\u001b[22m\u001b[39m project at `c:\\Users\\lk535\\Desktop\\Classes\\BEE 4750\\Homeworks\\hw05 - LesediK01\\hw05-LesediK01`"
          ]
        },
        {
          "name": "stderr",
          "output_type": "stream",
          "text": [
            "\n"
          ]
        },
        {
          "name": "stderr",
          "output_type": "stream",
          "text": [
            "\u001b[32m\u001b[1m   Installed\u001b[22m\u001b[39m HiGHS_jll ────────── v1.6.0+0\n"
          ]
        },
        {
          "name": "stderr",
          "output_type": "stream",
          "text": [
            "\u001b[32m\u001b[1m   Installed\u001b[22m\u001b[39m RelocatableFolders ─ v1.0.1\n"
          ]
        },
        {
          "name": "stderr",
          "output_type": "stream",
          "text": [
            "\u001b[32m\u001b[1m   Installed\u001b[22m\u001b[39m CodecBzip2 ───────── v0.8.1\n"
          ]
        },
        {
          "name": "stderr",
          "output_type": "stream",
          "text": [
            "\u001b[32m\u001b[1m   Installed\u001b[22m\u001b[39m LoggingExtras ────── v1.0.3\n",
            "\u001b[32m\u001b[1m   Installed\u001b[22m\u001b[39m NetworkLayout ────── v0.4.6\n",
            "\u001b[32m\u001b[1m   Installed\u001b[22m\u001b[39m OffsetArrays ─────── v1.12.10\n"
          ]
        },
        {
          "name": "stderr",
          "output_type": "stream",
          "text": [
            "\u001b[32m\u001b[1m   Installed\u001b[22m\u001b[39m StaticArrays ─────── v1.6.5\n"
          ]
        },
        {
          "name": "stderr",
          "output_type": "stream",
          "text": [
            "\u001b[32m\u001b[1m   Installed\u001b[22m\u001b[39m fzf_jll ──────────── v0.35.1+0\n",
            "\u001b[32m\u001b[1m   Installed\u001b[22m\u001b[39m JLFzf ────────────── v0.1.6\n",
            "\u001b[32m\u001b[1m   Installed\u001b[22m\u001b[39m CodecZlib ────────── v0.7.3\n",
            "\u001b[32m\u001b[1m   Installed\u001b[22m\u001b[39m TranscodingStreams ─ v0.10.1\n"
          ]
        },
        {
          "name": "stderr",
          "output_type": "stream",
          "text": [
            "\u001b[32m\u001b[1m   Installed\u001b[22m\u001b[39m PrettyTables ─────── v2.2.8\n"
          ]
        },
        {
          "name": "stderr",
          "output_type": "stream",
          "text": [
            "\u001b[32m\u001b[1m   Installed\u001b[22m\u001b[39m Extents ──────────── v0.1.2\n",
            "\u001b[32m\u001b[1m   Installed\u001b[22m\u001b[39m Inflate ──────────── v0.1.4\n"
          ]
        },
        {
          "name": "stderr",
          "output_type": "stream",
          "text": [
            "\u001b[32m\u001b[1m   Installed\u001b[22m\u001b[39m ConstructionBase ─── v1.5.4\n"
          ]
        },
        {
          "name": "stderr",
          "output_type": "stream",
          "text": [
            "\u001b[32m\u001b[1m   Installed\u001b[22m\u001b[39m ChainRulesCore ───── v1.18.0\n",
            "\u001b[32m\u001b[1m   Installed\u001b[22m\u001b[39m MathOptInterface ─── v1.21.0\n"
          ]
        },
        {
          "name": "stderr",
          "output_type": "stream",
          "text": [
            "\u001b[32m\u001b[1m   Installed\u001b[22m\u001b[39m Graphs ───────────── v1.9.0\n",
            "\u001b[32m\u001b[1m   Installed\u001b[22m\u001b[39m JuMP ─────────────── v1.16.0\n"
          ]
        },
        {
          "name": "stderr",
          "output_type": "stream",
          "text": [
            "\u001b[32m\u001b[1m   Installed\u001b[22m\u001b[39m XML2_jll ─────────── v2.11.5+0\n",
            "\u001b[32m\u001b[1m   Installed\u001b[22m\u001b[39m Adapt ────────────── v3.7.1\n",
            "\u001b[32m\u001b[1m   Installed\u001b[22m\u001b[39m HiGHS ────────────── v1.7.5\n",
            "\u001b[32m\u001b[1m   Installed\u001b[22m\u001b[39m GeometryBasics ───── v0.4.9\n",
            "\u001b[32m\u001b[1m   Installed\u001b[22m\u001b[39m Tables ───────────── v1.11.1\n"
          ]
        },
        {
          "name": "stderr",
          "output_type": "stream",
          "text": [
            "\u001b[32m\u001b[1m   Installed\u001b[22m\u001b[39m URIs ─────────────── v1.5.1\n"
          ]
        },
        {
          "name": "stderr",
          "output_type": "stream",
          "text": [
            "\u001b[32m\u001b[1m   Installed\u001b[22m\u001b[39m StructArrays ─────── v0.6.16\n"
          ]
        },
        {
          "name": "stderr",
          "output_type": "stream",
          "text": [
            "\u001b[32m\u001b[1m   Installed\u001b[22m\u001b[39m GeoInterface ─────── v1.3.2\n"
          ]
        },
        {
          "name": "stderr",
          "output_type": "stream",
          "text": [
            "\u001b[32m\u001b[1m   Installed\u001b[22m\u001b[39m SortingAlgorithms ── v1.2.0\n"
          ]
        },
        {
          "name": "stderr",
          "output_type": "stream",
          "text": [
            "\u001b[32m\u001b[1mPrecompiling\u001b[22m\u001b[39m "
          ]
        },
        {
          "name": "stderr",
          "output_type": "stream",
          "text": [
            "project..."
          ]
        },
        {
          "name": "stderr",
          "output_type": "stream",
          "text": [
            "\n"
          ]
        },
        {
          "name": "stderr",
          "output_type": "stream",
          "text": [
            "\u001b[32m  ✓ \u001b[39m\u001b[90mExtents\u001b[39m\n",
            "\u001b[32m  ✓ \u001b[39m\u001b[90mAdapt\u001b[39m\n",
            "\u001b[32m  ✓ \u001b[39m\u001b[90mInflate\u001b[39m\n",
            "\u001b[32m  ✓ \u001b[39m\u001b[90mURIs\u001b[39m\n",
            "\u001b[32m  ✓ \u001b[39m\u001b[90mTranscodingStreams\u001b[39m\n"
          ]
        },
        {
          "name": "stderr",
          "output_type": "stream",
          "text": [
            "\u001b[32m  ✓ \u001b[39m\u001b[90mConstructionBase\u001b[39m\n"
          ]
        },
        {
          "name": "stderr",
          "output_type": "stream",
          "text": [
            "\u001b[32m  ✓ \u001b[39m\u001b[90mChainRulesCore\u001b[39m\n",
            "\u001b[32m  ✓ \u001b[39m\u001b[90mRelocatableFolders\u001b[39m\n"
          ]
        },
        {
          "name": "stderr",
          "output_type": "stream",
          "text": [
            "\u001b[32m  ✓ \u001b[39m\u001b[90mLoggingExtras\u001b[39m\n"
          ]
        },
        {
          "name": "stderr",
          "output_type": "stream",
          "text": [
            "\u001b[32m  ✓ \u001b[39m\u001b[90mTables\u001b[39m\n"
          ]
        },
        {
          "name": "stderr",
          "output_type": "stream",
          "text": [
            "\u001b[32m  ✓ \u001b[39m\u001b[90mSortingAlgorithms\u001b[39m\n"
          ]
        },
        {
          "name": "stderr",
          "output_type": "stream",
          "text": [
            "\u001b[32m  ✓ \u001b[39m\u001b[90mSimpleTraits\u001b[39m\n"
          ]
        },
        {
          "name": "stderr",
          "output_type": "stream",
          "text": [
            "\u001b[32m  ✓ \u001b[39m\u001b[90mHiGHS_jll\u001b[39m\n"
          ]
        },
        {
          "name": "stderr",
          "output_type": "stream",
          "text": [
            "\u001b[32m  ✓ \u001b[39m\u001b[90mfzf_jll\u001b[39m\n"
          ]
        },
        {
          "name": "stderr",
          "output_type": "stream",
          "text": [
            "\u001b[32m  ✓ \u001b[39m\u001b[90mEarCut_jll\u001b[39m\n"
          ]
        },
        {
          "name": "stderr",
          "output_type": "stream",
          "text": [
            "\u001b[32m  ✓ \u001b[39m\u001b[90mChainRulesCore → ChainRulesCoreSparseArraysExt\u001b[39m\n"
          ]
        },
        {
          "name": "stderr",
          "output_type": "stream",
          "text": [
            "\u001b[32m  ✓ \u001b[39m\u001b[90mXML2_jll\u001b[39m\n"
          ]
        },
        {
          "name": "stderr",
          "output_type": "stream",
          "text": [
            "\u001b[32m  ✓ \u001b[39m\u001b[90mGeoInterface\u001b[39m\n"
          ]
        },
        {
          "name": "stderr",
          "output_type": "stream",
          "text": [
            "\u001b[32m  ✓ \u001b[39m\u001b[90mTranscodingStreams → TestExt\u001b[39m\n"
          ]
        },
        {
          "name": "stderr",
          "output_type": "stream",
          "text": [
            "\u001b[32m  ✓ \u001b[39m\u001b[90mUnitful → ConstructionBaseUnitfulExt\u001b[39m\n"
          ]
        },
        {
          "name": "stderr",
          "output_type": "stream",
          "text": [
            "\u001b[32m  ✓ \u001b[39mMarkdownTables\n",
            "\u001b[32m  ✓ \u001b[39m\u001b[90mJLFzf\u001b[39m"
          ]
        },
        {
          "name": "stderr",
          "output_type": "stream",
          "text": [
            "\n",
            "\u001b[32m  ✓ \u001b[39m\u001b[90mCodecZlib\u001b[39m\n"
          ]
        },
        {
          "name": "stderr",
          "output_type": "stream",
          "text": [
            "\u001b[32m  ✓ \u001b[39m\u001b[90mLogExpFunctions → LogExpFunctionsChainRulesCoreExt\u001b[39m\n"
          ]
        },
        {
          "name": "stderr",
          "output_type": "stream",
          "text": [
            "\u001b[32m  ✓ \u001b[39m\u001b[90mXSLT_jll\u001b[39m\n"
          ]
        },
        {
          "name": "stderr",
          "output_type": "stream",
          "text": [
            "\u001b[32m  ✓ \u001b[39m\u001b[90mWayland_jll\u001b[39m\n"
          ]
        },
        {
          "name": "stderr",
          "output_type": "stream",
          "text": [
            "\u001b[32m  ✓ \u001b[39m\u001b[90mGettext_jll\u001b[39m\n",
            "\u001b[32m  ✓ \u001b[39m\u001b[90mCodecBzip2\u001b[39m\n"
          ]
        },
        {
          "name": "stderr",
          "output_type": "stream",
          "text": [
            "\u001b[32m  ✓ \u001b[39m\u001b[90mXorg_libxcb_jll\u001b[39m\n"
          ]
        },
        {
          "name": "stderr",
          "output_type": "stream",
          "text": [
            "\u001b[32m  ✓ \u001b[39m\u001b[90mGlib_jll\u001b[39m\n"
          ]
        },
        {
          "name": "stderr",
          "output_type": "stream",
          "text": [
            "\u001b[32m  ✓ \u001b[39m\u001b[90mXorg_xcb_util_jll\u001b[39m\n"
          ]
        },
        {
          "name": "stderr",
          "output_type": "stream",
          "text": [
            "\u001b[32m  ✓ \u001b[39m\u001b[90mXorg_libX11_jll\u001b[39m\n"
          ]
        },
        {
          "name": "stderr",
          "output_type": "stream",
          "text": [
            "\u001b[32m  ✓ \u001b[39m\u001b[90mStatsBase\u001b[39m\n"
          ]
        },
        {
          "name": "stderr",
          "output_type": "stream",
          "text": [
            "\u001b[32m  ✓ \u001b[39m\u001b[90mXorg_xcb_util_image_jll\u001b[39m\n"
          ]
        },
        {
          "name": "stderr",
          "output_type": "stream",
          "text": [
            "\u001b[32m  ✓ \u001b[39m\u001b[90mStaticArrays\u001b[39m\n"
          ]
        },
        {
          "name": "stderr",
          "output_type": "stream",
          "text": [
            "\u001b[32m  ✓ \u001b[39m\u001b[90mSpecialFunctions\u001b[39m\n"
          ]
        },
        {
          "name": "stderr",
          "output_type": "stream",
          "text": [
            "\u001b[32m  ✓ \u001b[39m\u001b[90mXorg_xcb_util_keysyms_jll\u001b[39m\n"
          ]
        },
        {
          "name": "stderr",
          "output_type": "stream",
          "text": [
            "\u001b[32m  ✓ \u001b[39m\u001b[90mHTTP\u001b[39m\n"
          ]
        },
        {
          "name": "stderr",
          "output_type": "stream",
          "text": [
            "\u001b[32m  ✓ \u001b[39m\u001b[90mXorg_xcb_util_renderutil_jll\u001b[39m\n"
          ]
        },
        {
          "name": "stderr",
          "output_type": "stream",
          "text": [
            "\u001b[32m  ✓ \u001b[39m\u001b[90mXorg_xcb_util_wm_jll\u001b[39m\n"
          ]
        },
        {
          "name": "stderr",
          "output_type": "stream",
          "text": [
            "\u001b[32m  ✓ \u001b[39m\u001b[90mXorg_libXext_jll\u001b[39m\n"
          ]
        },
        {
          "name": "stderr",
          "output_type": "stream",
          "text": [
            "\u001b[32m  ✓ \u001b[39m\u001b[90mXorg_libXrender_jll\u001b[39m\n"
          ]
        },
        {
          "name": "stderr",
          "output_type": "stream",
          "text": [
            "\u001b[32m  ✓ \u001b[39m\u001b[90mXorg_libXfixes_jll\u001b[39m\n"
          ]
        },
        {
          "name": "stderr",
          "output_type": "stream",
          "text": [
            "\u001b[32m  ✓ \u001b[39m\u001b[90mXorg_libxkbfile_jll\u001b[39m\n"
          ]
        },
        {
          "name": "stderr",
          "output_type": "stream",
          "text": [
            "\u001b[32m  ✓ \u001b[39m\u001b[90mStaticArrays → StaticArraysStatisticsExt\u001b[39m\n"
          ]
        },
        {
          "name": "stderr",
          "output_type": "stream",
          "text": [
            "\u001b[32m  ✓ \u001b[39m\u001b[90mAdapt → AdaptStaticArraysExt\u001b[39m\n",
            "\u001b[32m  ✓ \u001b[39m\u001b[90mArnoldiMethod\u001b[39m\n"
          ]
        },
        {
          "name": "stderr",
          "output_type": "stream",
          "text": [
            "\u001b[32m  ✓ \u001b[39m\u001b[90mConstructionBase → ConstructionBaseStaticArraysExt\u001b[39m\n"
          ]
        },
        {
          "name": "stderr",
          "output_type": "stream",
          "text": [
            "\u001b[32m  ✓ \u001b[39m\u001b[90mDiffRules\u001b[39m\n"
          ]
        },
        {
          "name": "stderr",
          "output_type": "stream",
          "text": [
            "\u001b[32m  ✓ \u001b[39m\u001b[90mSpecialFunctions → SpecialFunctionsChainRulesCoreExt\u001b[39m\n",
            "\u001b[32m  ✓ \u001b[39m\u001b[90mXorg_xcb_util_cursor_jll\u001b[39m\n"
          ]
        },
        {
          "name": "stderr",
          "output_type": "stream",
          "text": [
            "\u001b[32m  ✓ \u001b[39m\u001b[90mLibglvnd_jll\u001b[39m\n"
          ]
        },
        {
          "name": "stderr",
          "output_type": "stream",
          "text": [
            "\u001b[32m  ✓ \u001b[39m\u001b[90mColorVectorSpace → SpecialFunctionsExt\u001b[39m\n"
          ]
        },
        {
          "name": "stderr",
          "output_type": "stream",
          "text": [
            "\u001b[32m  ✓ \u001b[39m\u001b[90mXorg_libXinerama_jll\u001b[39m\n"
          ]
        },
        {
          "name": "stderr",
          "output_type": "stream",
          "text": [
            "\u001b[32m  ✓ \u001b[39m\u001b[90mXorg_libXrandr_jll\u001b[39m\n"
          ]
        },
        {
          "name": "stderr",
          "output_type": "stream",
          "text": [
            "\u001b[32m  ✓ \u001b[39m\u001b[90mCairo_jll\u001b[39m\n",
            "\u001b[32m  ✓ \u001b[39m\u001b[90mXorg_libXcursor_jll\u001b[39m\n"
          ]
        },
        {
          "name": "stderr",
          "output_type": "stream",
          "text": [
            "\u001b[32m  ✓ \u001b[39m\u001b[90mXorg_libXi_jll\u001b[39m\n"
          ]
        },
        {
          "name": "stderr",
          "output_type": "stream",
          "text": [
            "\u001b[32m  ✓ \u001b[39m\u001b[90mGeometryTypes\u001b[39m\n",
            "\u001b[32m  ✓ \u001b[39m\u001b[90mXorg_xkbcomp_jll\u001b[39m\n"
          ]
        },
        {
          "name": "stderr",
          "output_type": "stream",
          "text": [
            "\u001b[32m  ✓ \u001b[39m\u001b[90mGPUArraysCore\u001b[39m\n"
          ]
        },
        {
          "name": "stderr",
          "output_type": "stream",
          "text": [
            "\u001b[32m  ✓ \u001b[39m\u001b[90mOffsetArrays\u001b[39m\n"
          ]
        },
        {
          "name": "stderr",
          "output_type": "stream",
          "text": [
            "\u001b[32m  ✓ \u001b[39m\u001b[90mGLFW_jll\u001b[39m\n"
          ]
        },
        {
          "name": "stderr",
          "output_type": "stream",
          "text": [
            "\u001b[32m  ✓ \u001b[39m\u001b[90mHarfBuzz_jll\u001b[39m\n"
          ]
        },
        {
          "name": "stderr",
          "output_type": "stream",
          "text": [
            "\u001b[32m  ✓ \u001b[39m\u001b[90mXorg_xkeyboard_config_jll\u001b[39m\n"
          ]
        },
        {
          "name": "stderr",
          "output_type": "stream",
          "text": [
            "\u001b[32m  ✓ \u001b[39m\u001b[90mStructArrays\u001b[39m\n"
          ]
        },
        {
          "name": "stderr",
          "output_type": "stream",
          "text": [
            "\u001b[32m  ✓ \u001b[39m\u001b[90mxkbcommon_jll\u001b[39m\n"
          ]
        },
        {
          "name": "stderr",
          "output_type": "stream",
          "text": [
            "\u001b[32m  ✓ \u001b[39m\u001b[90mlibass_jll\u001b[39m"
          ]
        },
        {
          "name": "stderr",
          "output_type": "stream",
          "text": [
            "\n"
          ]
        },
        {
          "name": "stderr",
          "output_type": "stream",
          "text": [
            "\u001b[32m  ✓ \u001b[39m\u001b[90mForwardDiff\u001b[39m\n"
          ]
        },
        {
          "name": "stderr",
          "output_type": "stream",
          "text": [
            "\u001b[32m  ✓ \u001b[39m\u001b[90mPrettyTables\u001b[39m\n"
          ]
        },
        {
          "name": "stderr",
          "output_type": "stream",
          "text": [
            "\u001b[32m  ✓ \u001b[39m"
          ]
        },
        {
          "name": "stderr",
          "output_type": "stream",
          "text": [
            "\u001b[90mVulkan_Loader_jll\u001b[39m\n",
            "\u001b[32m  ✓ \u001b[39m\u001b[90mInterpolations\u001b[39m\n"
          ]
        },
        {
          "name": "stderr",
          "output_type": "stream",
          "text": [
            "\u001b[32m  ✓ \u001b[39m\u001b[90mGraphs\u001b[39m\n"
          ]
        },
        {
          "name": "stderr",
          "output_type": "stream",
          "text": [
            "\u001b[32m  ✓ \u001b[39m\u001b[90mFFMPEG_jll\u001b[39m\n"
          ]
        },
        {
          "name": "stderr",
          "output_type": "stream",
          "text": [
            "\u001b[32m  ✓ \u001b[39m\u001b[90mQt6Base_jll\u001b[39m\n"
          ]
        },
        {
          "name": "stderr",
          "output_type": "stream",
          "text": [
            "\u001b[32m  ✓ \u001b[39m\u001b[90mForwardDiff → ForwardDiffStaticArraysExt\u001b[39m\n"
          ]
        },
        {
          "name": "stderr",
          "output_type": "stream",
          "text": [
            "\u001b[32m  ✓ \u001b[39m\u001b[90mColorSchemes\u001b[39m\n",
            "\u001b[32m  ✓ \u001b[39m\u001b[90mFFMPEG\u001b[39m\n"
          ]
        },
        {
          "name": "stderr",
          "output_type": "stream",
          "text": [
            "\u001b[32m  ✓ \u001b[39m\u001b[90mGR_jll\u001b[39m\n"
          ]
        },
        {
          "name": "stderr",
          "output_type": "stream",
          "text": [
            "\u001b[32m  ✓ \u001b[39m\u001b[90mGeometryBasics\u001b[39m\n"
          ]
        },
        {
          "name": "stderr",
          "output_type": "stream",
          "text": [
            "\u001b[32m  ✓ \u001b[39m"
          ]
        },
        {
          "name": "stderr",
          "output_type": "stream",
          "text": [
            "\u001b[90mGR\u001b[39m\n"
          ]
        },
        {
          "name": "stderr",
          "output_type": "stream",
          "text": [
            "\u001b[32m  ✓ \u001b[39m\u001b[90mNetworkLayout\u001b[39m\n"
          ]
        },
        {
          "name": "stderr",
          "output_type": "stream",
          "text": [
            "\u001b[32m  ✓ \u001b[39m\u001b[90mNetworkLayout → NetworkLayoutGraphsExt\u001b[39m\n"
          ]
        },
        {
          "name": "stderr",
          "output_type": "stream",
          "text": [
            "\u001b[32m  ✓ \u001b[39m\u001b[90mPlotUtils\u001b[39m\n"
          ]
        },
        {
          "name": "stderr",
          "output_type": "stream",
          "text": [
            "\u001b[32m  ✓ \u001b[39m\u001b[90mPlotThemes\u001b[39m\n"
          ]
        },
        {
          "name": "stderr",
          "output_type": "stream",
          "text": [
            "\u001b[32m  ✓ \u001b[39mGraphRecipes\n"
          ]
        },
        {
          "name": "stderr",
          "output_type": "stream",
          "text": [
            "\u001b[32m  ✓ \u001b[39m\u001b[90mRecipesPipeline\u001b[39m\n"
          ]
        },
        {
          "name": "stderr",
          "output_type": "stream",
          "text": [
            "\u001b[32m  ✓ \u001b[39mDataFrames\n"
          ]
        },
        {
          "name": "stderr",
          "output_type": "stream",
          "text": [
            "\u001b[32m  ✓ \u001b[39m\u001b[90mLatexify → DataFramesExt\u001b[39m\n"
          ]
        },
        {
          "name": "stderr",
          "output_type": "stream",
          "text": [
            "\u001b[32m  ✓ \u001b[39m\u001b[90mMathOptInterface\u001b[39m\n"
          ]
        },
        {
          "name": "stderr",
          "output_type": "stream",
          "text": [
            "\u001b[32m  ✓ \u001b[39mHiGHS\n"
          ]
        },
        {
          "name": "stderr",
          "output_type": "stream",
          "text": [
            "\u001b[32m  ✓ \u001b[39mPlots\n"
          ]
        },
        {
          "name": "stderr",
          "output_type": "stream",
          "text": [
            "\u001b[32m  ✓ \u001b[39m\u001b[90mPlots → UnitfulExt\u001b[39m\n"
          ]
        },
        {
          "name": "stderr",
          "output_type": "stream",
          "text": [
            "\u001b[32m  ✓ \u001b[39m\u001b[90mPlots → GeometryBasicsExt\u001b[39m\n"
          ]
        },
        {
          "name": "stderr",
          "output_type": "stream",
          "text": [
            "\u001b[32m  ✓ \u001b[39mJuMP\n",
            "  95 dependencies successfully precompiled in 166 seconds. 120 already precompiled.\n"
          ]
        }
      ],
      "source": [
        "import Pkg\n",
        "Pkg.activate(@__DIR__)\n",
        "Pkg.instantiate()"
      ]
    },
    {
      "cell_type": "code",
      "execution_count": 2,
      "metadata": {},
      "outputs": [],
      "source": [
        "using JuMP\n",
        "using HiGHS\n",
        "using DataFrames\n",
        "using GraphRecipes\n",
        "using Plots\n",
        "using Measures\n",
        "using MarkdownTables"
      ]
    },
    {
      "cell_type": "markdown",
      "id": "f01fc8ec-5c50-4f09-ae59-42dbf09a2fd7",
      "metadata": {},
      "source": [
        "## Background\n",
        "\n",
        "Three cities are developing a coordinated municipal solid waste (MSW)\n",
        "disposal plan. Three disposal alternatives are being considered: a\n",
        "landfill (LF), a materials recycling facility (MRF), and a\n",
        "waste-to-energy facility (WTE). The capacities of these facilities and\n",
        "the fees for operation and disposal are provided in the table below.\n",
        "\n",
        "|    **Disposal Facility**     | **Capacity** (Mg/d) | **Fixed cost** (\\$/d) | **Tipping Fee ** (\\$/Mg) | **Recycling Cost** (\\$/Mg) |\n",
        "|:-------------:|:-------------:|:-------------:|:----------:|:--------------:|\n",
        "|           Landfill           |         200         |         2000          |            50            |                            |\n",
        "| Materials Recycling Facility |         350         |         1500          |            7             |    40 (per Mg recycled)    |\n",
        "|   Waste-to-Energy Facility   |         210         |         2500          |            60            |                            |\n",
        "\n",
        "Transportation costs are \\$1.5/Mg-km, and the relative distances between\n",
        "the cities and facilities are provided in the table below.\n",
        "\n",
        "| **City/Facility** | **Landfill (km)** | **MRF (km)** | **WTE (km)** |\n",
        "|:-----------------:|:-----------------:|:------------:|:------------:|\n",
        "|         1         |         5         |      30      |      15      |\n",
        "|         2         |        15         |      25      |      10      |\n",
        "|         3         |        13         |      45      |      20      |\n",
        "|        LF         |        \\-         |      32      |      18      |\n",
        "|        MRF        |        32         |      \\-      |      15      |\n",
        "|        WTE        |        18         |      15      |      \\-      |\n",
        "\n",
        "The fixed costs associated with the disposal options are incurred only\n",
        "if the particular disposal option is implemented. The three cities\n",
        "produce 100, 90, and 120 Mg/day of solid waste, respectively, with the\n",
        "composition provided in the table below.\n",
        "\n",
        "|   **Component**   | **% of total mass** | **Combustion ash** (%) | **MRF Recycling rate** (%) |\n",
        "|:---------------------:|:--------------:|:---------------:|:---------------:|\n",
        "|    Food Wastes    |         15          |           8            |             0              |\n",
        "| Paper & Cardboard |         40          |           7            |             55             |\n",
        "|     Plastics      |          5          |           5            |             15             |\n",
        "|     Textiles      |          3          |           10           |             10             |\n",
        "|  Rubber, Leather  |          2          |           15           |             0              |\n",
        "|       Wood        |          5          |           2            |             30             |\n",
        "|    Yard Wastes    |         18          |           2            |             40             |\n",
        "|       Glass       |          4          |          100           |             60             |\n",
        "|      Ferrous      |          2          |          100           |             75             |\n",
        "|     Aluminum      |          2          |          100           |             80             |\n",
        "|    Other Metal    |          1          |          100           |             50             |\n",
        "|   Miscellaneous   |          3          |           70           |             0              |\n",
        "\n",
        "The information in the above table will help you determine the overall\n",
        "recycling and ash fractions. Note that the recycling residuals, which\n",
        "may be sent to either landfill or the WTE, have different ash content\n",
        "than the ash content of the original MSW. You will need to determine\n",
        "these fractions to construct your mass balance constraints.\n",
        "\n",
        "**Reminder**: Use `round(x; digits=n)` to report values to the\n",
        "appropriate precision!"
      ]
    },
    {
      "cell_type": "markdown",
      "id": "fdcc0b96-9176-4766-aed7-278ca003f7b6",
      "metadata": {},
      "source": [
        "## Problems (Total: 40 Points)"
      ]
    },
    {
      "cell_type": "markdown",
      "id": "ba969f6a-18b8-462c-980c-95b5ea6c6b92",
      "metadata": {},
      "source": [
        "### Problem 1 (22 points)\n",
        "\n",
        "In this problem, you will develop an optimal disposal plan for the two\n",
        "cities."
      ]
    },
    {
      "cell_type": "markdown",
      "id": "b7bb2071-887b-4709-b241-fd83ca521817",
      "metadata": {},
      "source": [
        "#### Problem 1.1 (3 points)\n",
        "\n",
        "Based on the information above, calculate the overall recycling and ash\n",
        "fractions for the waste produced by each city."
      ]
    },
    {
      "cell_type": "code",
      "execution_count": 16,
      "metadata": {},
      "outputs": [
        {
          "name": "stdout",
          "output_type": "stream",
          "text": [
            "The overall recycling fraction: 37.75\n",
            "The overall ash fraction: 16.41\n"
          ]
        }
      ],
      "source": [
        "#Initialize a Dataframe to store the waste components\n",
        "waste_components = DataFrame(\n",
        "    component = [\"Food Wastes\", \"Paper & Cardboard\", \"Plastics\", \"Textiles\", \"Rubber, Leather\", \"Wood\", \n",
        "                 \"Yard Wastes\", \"Glass\", \"Ferrous\", \"Aluminum\", \"Other Metal\", \"Miscellaneous\"],\n",
        "    Mass_Percent = [15, 40, 5, 3, 2, 5, 18, 4, 2, 2, 1, 3],\n",
        "    Combustion_AshPercent = [8, 7, 5, 10, 15, 2, 2, 100, 100, 100, 100, 70],\n",
        "    MRF_Recycling_Rate = [0, 55, 15, 10, 0, 30, 40, 60, 75, 80, 50, 0])\n",
        "\n",
        "#Compute the overall recycling fraction \n",
        "#To determine the recycling fraction, I will solve by taking the Σ(masspercent of each component * recycling rate) \n",
        "recycling_fraction = sum(waste_components.Mass_Percent .* waste_components.MRF_Recycling_Rate) / 100 \n",
        "recycling_fraction = round(recycling_fraction, digits=2)\n",
        "\n",
        "#Compute the overall ash fraction \n",
        "ash_fraction = sum(waste_components.Mass_Percent .* waste_components.Combustion_AshPercent) / 100 \n",
        "ash_fraction = round(ash_fraction, digits = 2)\n",
        "\n",
        "println(\"The overall recycling fraction is: \", recycling_fraction)\n",
        "println(\"The overall ash fraction is: \", ash_fraction)"
      ]
    },
    {
      "cell_type": "markdown",
      "id": "e649dc0e-ac57-4735-b145-f58917ce4cc5",
      "metadata": {},
      "source": [
        "#### Problem 1.2 (2 points)\n",
        "\n",
        "What are the decision variables for your optimization problem? Provide\n",
        "notation and variable meaning."
      ]
    },
    {
      "cell_type": "markdown",
      "metadata": {},
      "source": [
        "The decision variables will be the amount of waste transported from city i to facitlity j, and the opening status decision for facility j. \n",
        "These are respectively represented as follows:  \n",
        "\n",
        "$X_{i,j}$\n",
        "\n",
        "$Y_j$\n"
      ]
    },
    {
      "cell_type": "markdown",
      "id": "692b76d0-5e3c-4123-a2f8-cc244fba0dc2",
      "metadata": {},
      "source": [
        "#### Problem 1.3 (3 points)\n",
        "\n",
        "Formulate the objective function. Make sure to include any needed\n",
        "derivations or justifications for your equation(s)."
      ]
    },
    {
      "cell_type": "markdown",
      "metadata": {},
      "source": [
        "The objective is to minimize total costs. These are individually identified as the fixed costs for operating each facility, transportation costs, tipping fees, and the recycling costs.\n",
        "\n",
        "The fixed costs for operating each facility per day is defined as $FC_j$. The fixed cost for facility j $FC_j$ is influenced by whether the facility is operational; \n",
        "\n",
        "therefore, it will be structured as $FC_j * Y_j$. The tipping fee for the quantity of waste transported to facility j ($T_j * x_{i,j}$). The costs for waste transportation is defined as \n",
        "\n",
        "$TC_{i,j}$. The distance traveled to facility j must also be accounted for therefore, transportation costs will be defined as cost per unit of waste per distance ($TC_{i,j} * x_{i,j} * d_{i,j}$). \n",
        "\n",
        "It is noted that the recycling costs are uniquely not applied to all the facilities, but rather the Materials Recycling Facility (MRF).  \n",
        "Thus, \n",
        "\n",
        "$$\\begin{equation}\n",
        "\\begin{aligned}\n",
        "& \\min_{z} & \\Sigma_j FC_j *  y_j + \\Sigma_{i,j} T_,j * x_{i,j} + \\Sigma_i R_MRF * x_{i, MRF} + \\Sigma_{i,j} (TC * d_{i,j} * x_{i,j}) \\\\\n",
        "\\end{aligned} \n",
        "\\end{equation}$$"
      ]
    },
    {
      "cell_type": "markdown",
      "id": "b1ac06fc-3f24-4ce0-86b2-9910f62d235f",
      "metadata": {},
      "source": [
        "#### Problem 1.4 (4 points)\n",
        "\n",
        "Derive all relevant constraints. Make sure to include any needed\n",
        "justifications or derivations."
      ]
    },
    {
      "cell_type": "markdown",
      "metadata": {},
      "source": [
        "The total waste processed by each facility cannot exceed the capacity of the facility. Therefore, capacity constraints apply. For each facility j that is operational, \n",
        "\n",
        "$ \\Sigma_i x_{i,j} \\le Capacity_j$ *  $ y_i $\n",
        "\n",
        "A facility can only process waste if it is operational; therefore, there is an operation constraint. To account for the possibility of $y_j = 0$, for facility j, \n",
        "\n",
        "$ x_{i,j} \\le 10000 $ x $Y_j$\n",
        "\n",
        "10000 is just an arbitary number that could be referenced\n",
        "\n",
        "For the waste that is produced by each city, the total waste that is transported must equal the net waste produced in city i. Therefore, flow constraints apply. For each city i, \n",
        "\n",
        "$ \\Sigma_j x_{i,j}$ = City i's net waste production \n",
        "\n",
        "There must always be waste produced by city i and an associated facility j. Therefore, non-negativity constraint apply as follows,\n",
        "\n",
        "$ i \\ge 0 $\n",
        "\n",
        "$ j \\ge 0 $\n",
        "\n",
        "$ x_{i,j} \\ge 0 $\n",
        "\n",
        "The operational status of facility j is binary; therefore, binary constaints also apply as follows, \n",
        "\n",
        "$ j, y_j $ is binary (0 or 1) \n",
        "\n"
      ]
    },
    {
      "cell_type": "markdown",
      "id": "311b2145-551b-4c4c-99aa-e466b170c470",
      "metadata": {},
      "source": [
        "#### Problem 1.5 (3 points)\n",
        "\n",
        "Implement your optimization problem in `JuMP`."
      ]
    },
    {
      "cell_type": "code",
      "execution_count": 17,
      "metadata": {},
      "outputs": [],
      "source": [
        "facility_model = Model(HiGHS.Optimizer)\n",
        "\n",
        "#Declare decision variables\n",
        "@variable(facility_model, x_ij[i = 1:3, j = 1:3] >= 0)\n",
        "@variable(facility_model, y_j[j = 1:3], Bin)\n",
        "\n",
        "#Declare constant variables\n",
        "FC_j = [2000, 1500, 2500]  #Fixed costs for the landfill, materials recycling facility (MRF), and waste-to-energy facility\n",
        "T_j = [50, 7, 60]         #Tipping fees for landfill, materials recycling facility (MRF), and waste-to-energy facility\n",
        "R_MRF = 40                #Recycling cost per Mg recycled at MRF\n",
        "TC = 1.5                  #Transportation cost per Mg-km\n",
        "d_ij = [5 30 15; 15 25 10; 13 45 20]  #Distances from the cities to the facilities as a matrix\n",
        "\n",
        "#Define the Objective function\n",
        "@objective(facility_model, Min, sum(FC_j[j] * y_j[j] for j in 1:3) + sum(T_j[j] * x_ij[i,j] for i in 1:3, j in 1:3) +\n",
        "                            sum(R_MRF * x_ij[i,2] for i in 1:3) + sum(TC * d_ij[i,j] * x_ij[i,j] for i in 1:3, j in 1:3))\n",
        "\n",
        "#Declare capacity constraints for each facility\n",
        "capacities = [200, 350, 210]\n",
        "for j in 1:3\n",
        "    @constraint(facility_model, sum(x_ij[i,j] for i in 1:3) <= capacities[j] * y_j[j])\n",
        "end\n",
        "\n",
        "#Declare flow constraints for each city\n",
        "waste_produced = [100, 90, 120]\n",
        "for i in 1:3\n",
        "    @constraint(facility_model, sum(x_ij[i,j] for j in 1:3) == waste_produced[i])\n",
        "end\n",
        "\n",
        "#Declare facility operation constraints\n",
        "M = 10000\n",
        "for i in 1:3, j in 1:3\n",
        "    @constraint(facility_model, x_ij[i,j] <= M * y_j[j])\n",
        "end"
      ]
    },
    {
      "cell_type": "code",
      "execution_count": 18,
      "metadata": {},
      "outputs": [
        {
          "name": "stdout",
          "output_type": "stream",
          "text": [
            "Running HiGHS 1.6.0: Copyright (c) 2023 HiGHS under MIT licence terms\n",
            "Presolving model\n",
            "15 rows, 12 cols, 39 nonzeros\n",
            "15 rows, 12 cols, 39 nonzeros\n",
            "\n",
            "Solving MIP model with:\n",
            "   15 rows\n",
            "   12 cols (3 binary, 0 integer, 0 implied int., 9 continuous)\n",
            "   39 nonzeros\n",
            "\n",
            "        Nodes      |    B&B Tree     |            Objective Bounds              |  Dynamic Constraints |       Work      \n",
            "     Proc. InQueue |  Leaves   Expl. | BestBound       BestSol              Gap |   Cuts   InLp Confl. | LpIters     Time\n",
            "\n",
            "         0       0         0   0.00%   0               inf                  inf        0      0      0         0     0.0s\n",
            " S       0       0         0   0.00%   0               26521.428571     100.00%        0      0      0         0     0.0s\n",
            " R       0       0         0   0.00%   25330.952381    25750              1.63%        0      0      0         8     0.0s\n",
            "\n",
            "33.3% inactive integer columns, restarting\n",
            "Model after restart has 12 rows, 11 cols (2 bin., 0 int., 0 impl., 9 cont.), and 32 nonzeros\n",
            "\n",
            "         0       0         0   0.00%   25330.952381    25750              1.63%        0      0      0         8     0.0s\n",
            "         0       0         0   0.00%   25330.952381    25750              1.63%        0      0      0         8     0.0s\n",
            "\n",
            "Solving report\n",
            "  Status            Optimal\n",
            "  Primal bound      25750\n",
            "  Dual bound        25750\n",
            "  Gap               0% (tolerance: 0.01%)\n",
            "  Solution status   feasible\n",
            "                    25750 (objective)\n",
            "                    0 (bound viol.)\n",
            "                    0 (int. viol.)\n",
            "                    0 (row viol.)\n",
            "  Timing            0.00 (total)\n",
            "                    0.00 (presolve)\n",
            "                    0.00 (postsolve)\n",
            "  Nodes             1\n",
            "  LP iterations     18 (total)\n",
            "                    0 (strong br.)\n",
            "                    3 (separation)\n",
            "                    6 (heuristics)\n"
          ]
        }
      ],
      "source": [
        "optimize!(facility_model)"
      ]
    },
    {
      "cell_type": "markdown",
      "id": "f986c51d-2e74-496f-ac02-89e7455c9e4f",
      "metadata": {},
      "source": [
        "#### Problem 1.6 (2 points)\n",
        "\n",
        "Find the optimal solution. Report the optimal objective value."
      ]
    },
    {
      "cell_type": "code",
      "execution_count": 19,
      "metadata": {},
      "outputs": [
        {
          "name": "stdout",
          "output_type": "stream",
          "text": [
            "The optimal objective value is : 25750.0\n",
            "The optimal waste distribution is : "
          ]
        },
        {
          "name": "stdout",
          "output_type": "stream",
          "text": [
            "[100.0 0.0 -0.0; 0.0 0.0 90.0; 100.0 0.0 20.0]\n"
          ]
        },
        {
          "name": "stdout",
          "output_type": "stream",
          "text": [
            "Facility operation associated with y_j  : [1.0, 0.0, 1.0]\n"
          ]
        }
      ],
      "source": [
        "optimal_value = objective_value(facility_model)\n",
        "optimal_x_ij = value.(x_ij)\n",
        "optimal_y_j = value.(y_j)\n",
        "\n",
        "println(\"The optimal objective value is : \", optimal_value)\n",
        "println(\"The optimal waste distribution is : \", optimal_x_ij)\n",
        "println(\"Facility operation status : \", optimal_y_j)"
      ]
    },
    {
      "cell_type": "markdown",
      "id": "f577fd2d-e5de-406b-9f86-ec957976e3e0",
      "metadata": {},
      "source": [
        "#### Problem 1.7 (5 points)\n",
        "\n",
        "Draw a diagram showing the flows of waste between the cities and the\n",
        "facilities. Which facilities (if any) will not be used? Does this\n",
        "solution make sense?"
      ]
    },
    {
      "cell_type": "markdown",
      "metadata": {},
      "source": [
        "The extracted results show that optimal waste distribution would be: City 1 sending 100 Mg/day of waste to landfill; \n",
        "\n",
        "City 2 sending 90 Mg/day of waste to the Waste-to-Energy (WTE) facility; and City 3 sending 100 Mg/day of waste to the \n",
        "\n",
        "landfill and 20 Mg/day to the WTE facility.  \n",
        "\n",
        "The operation status of the facilities is reflected as follows: From 1.0, the landfill is operational; from 0.0 the MRF\n",
        "\n",
        "is not operational; and from 1.0 WTE is operational. Therefore, to minimize costs, only the landfill and WTE facility should be operational. \n",
        "\n"
      ]
    },
    {
      "cell_type": "markdown",
      "metadata": {},
      "source": [
        "![Waste flow](Problem1.png)"
      ]
    },
    {
      "cell_type": "markdown",
      "metadata": {},
      "source": [
        "The solution does appear to make sense. Although the MRF had the highest capacity, from a perspective purely focused on minimizing costs, it appears as though the costs associated\n",
        "\n",
        "with operating the facility (fixed costs, tipping fee, recycling costs and the transportation costs) would not lead to the most optimal value (minimum cost).   "
      ]
    },
    {
      "cell_type": "markdown",
      "id": "d648850f-68e5-4b26-a097-3ef8b4a4ec0e",
      "metadata": {},
      "source": [
        "### Problem 2 (18 points)\n",
        "\n",
        "It is projected that in the near future the state will introduce a\n",
        "carbon tax that will increase the cost for transportation and for\n",
        "disposal by incineration. It is estimated that the additional costs will\n",
        "be:\n",
        "\n",
        "-   tipping fee for the WTE facility will increase to\\$75/Mg; and\n",
        "-   transportation costs will increase to \\$2/Mg-km.\n",
        "\n",
        "In this context, the cities are considering adding another landfill and\n",
        "want to know if this would be cost-effective compared to using the\n",
        "current facilities with the carbon tax. This landfill would have a\n",
        "maximum capacity of 100 Mg/day and would be located with the following\n",
        "distances from the existing sites (excluding LF1):\n",
        "\n",
        "| **City/Facility** | **Distance to LF2 (km)** |\n",
        "|:-----------------:|:------------------------:|\n",
        "|         1         |            45            |\n",
        "|         2         |            35            |\n",
        "|         3         |            15            |\n",
        "|        MRF        |            35            |\n",
        "|        WTE        |            50            |\n",
        "\n",
        "The fixed cost of operating this facility would be the same as the first\n",
        "landfill, but the tipping cost would be increased to \\$60/Mg-day."
      ]
    },
    {
      "cell_type": "markdown",
      "id": "100f8010-51df-472b-92b8-c3b26b338fc7",
      "metadata": {},
      "source": [
        "#### Problem 2.1 (5 points)\n",
        "\n",
        "What changes are needed to your optimization program from Problem 1 for\n",
        "this decision problem? Formulate any different variables, objectives,\n",
        "and/or constraints."
      ]
    },
    {
      "cell_type": "markdown",
      "metadata": {},
      "source": [
        "By adding a new landfill, the decision variables and constraints have to be expanded upon through the inclusion of LF2's capacity, fixed costs and variable costs. \n",
        "\n",
        "Updates will thus take on the following form: \n",
        "\n",
        "The the decision variable $X_{i,j}$, which refers to the amount of waste transported from city i to facility j must include LF2. Therefore, $X_{i, LF2}$ will be\n",
        "\n",
        "included for the decision variable. Since LF2 is a facility, a operational status for LF2 must be included. Therefore, $Y_j$ will include $Y_{LF2}$. \n",
        "\n",
        "The costs which arise from introducing LF2 introduce changes to the objective function. From the above, these are noted as the fixed costs and tipping fee for\n",
        "\n",
        "the WTE facility increasing to \\$75/Mg (influencing the cost associated with waste transported to the WTE facility); and the transportation costs increasing to \\$2/Mg-km.\n",
        " \n",
        "These will respectively be updated to T' and TC' in the objective function. The fixed cost for LF2 will be $FC_{LF2}$, and the tipping fee will be \n",
        "\n",
        "$T_{LF2}$. Therefore,    \n",
        "\n",
        "$$\\begin{equation}\n",
        "\\begin{aligned}\n",
        "& \\min_{z} & \\Sigma_j FC_j *  y_j + \\Sigma_{i,j} T'_,j * x_{i,j} + \\Sigma_i R_MRF * x_{i, MRF} + \\Sigma_{i,j} (TC' * d_{i,j} * x_{i,j}) +\n",
        "\n",
        "FC_{LF2} * y_{LF2} + T_{LF2} * \\Sigma_i X_{i,LF2}\\\\\n",
        "\\end{aligned}\n",
        "\\end{equation}$$\n",
        "\n",
        "As previously mentioned, introducing LF2 will result in changes to the constraints. This however does not impact the non-negative and flow constraints - these \n",
        "\n",
        "remain the same. The capacity constraints will include \n",
        "for LF2: $ \\Sigma_i x_{i,LF2} \\le Capacity_j$ *  $ y_{LF2} $. The operational constraint for LF2 is \n",
        "\n",
        "$ x_{i,LF2} \\le 10000 $ x $Y_{LF2}$\n"
      ]
    },
    {
      "cell_type": "markdown",
      "id": "d2c90680-d220-4bd8-8446-000e32cceb1e",
      "metadata": {},
      "source": [
        "#### Problem 2.2 (3 points)\n",
        "\n",
        "Implement the new optimization problem in `JuMP`."
      ]
    },
    {
      "cell_type": "code",
      "execution_count": 25,
      "metadata": {},
      "outputs": [],
      "source": [
        "facility_model = Model(HiGHS.Optimizer)\n",
        "\n",
        "#Declare the updated decision variables with the inclusion of the new landfill (LF2)\n",
        "@variable(facility_model, x_ij[i = 1:3, j = 1:4] >= 0)  #Inclusion of LF2 in the in decision variables\n",
        "@variable(facility_model, y_j[j = 1:4], Bin)           #Inclusion of LF2 in the binary variables\n",
        "\n",
        "#Declare the updated constant variables \n",
        "FC_j = [2000, 1500, 2500, 2000]  #Fixed costs for the landfill, MRF, WTE and LF2 facility\n",
        "T_j = [50, 7, 60, 60]           #Tipping fees for landfill, MRF, WTE and LF2 facility\n",
        "R_MRF = 40                      #Recycling cost per Mg at MRF (this constant remained the same)\n",
        "TC = 2.0  #Updated transportation cost per Mg-km\n",
        "d_ij = [5 30 15 45; 15 25 10 35; 13 45 20 15]  #Distances from the cities to the facilities - distances matrix extended to include LF2\n",
        "\n",
        "#Define the updated objective function  \n",
        "@objective(facility_model, Min, sum(FC_j[j] * y_j[j] for j in 1:4) + sum(T_j[j] * x_ij[i,j] for i in 1:3, j in 1:4) +\n",
        "                            sum(R_MRF * x_ij[i,2] for i in 1:3) + sum(TC * d_ij[i,j] * x_ij[i,j] for i in 1:3, j in 1:4))\n",
        "\n",
        "#Declare the updated capacity constraints \n",
        "capacities = [200, 350, 210, 100]  \n",
        "for j in 1:4\n",
        "    @constraint(facility_model, sum(x_ij[i,j] for i in 1:3) <= capacities[j] * y_j[j])\n",
        "end\n",
        "\n",
        "#Declare flow constraints for each city \n",
        "waste_produced = [100, 90, 120]\n",
        "for i in 1:3\n",
        "    @constraint(facility_model, sum(x_ij[i,j] for j in 1:4) == waste_produced[i])\n",
        "end\n",
        "\n",
        "#Declare the updated facility operation constraints \n",
        "M = 10000\n",
        "for i in 1:3, j in 1:4\n",
        "    @constraint(facility_model, x_ij[i,j] <= M * y_j[j])\n",
        "end"
      ]
    },
    {
      "cell_type": "code",
      "execution_count": 26,
      "metadata": {},
      "outputs": [
        {
          "name": "stdout",
          "output_type": "stream",
          "text": [
            "Running HiGHS 1.6.0: Copyright (c) 2023 HiGHS under MIT licence terms\n",
            "Presolving model\n",
            "19 rows, 16 cols, 52 nonzeros\n",
            "19 rows, 16 cols, 52 nonzeros\n",
            "\n",
            "Solving MIP model with:\n",
            "   19 rows\n",
            "   16 cols (4 binary, 0 integer, 0 implied int., 12 continuous)\n",
            "   52 nonzeros\n",
            "\n",
            "        Nodes      |    B&B Tree     |            Objective Bounds              |  Dynamic Constraints |       Work      \n",
            "     Proc. InQueue |  Leaves   Expl. | BestBound       BestSol              Gap |   Cuts   InLp Confl. | LpIters     Time\n",
            "\n",
            "         0       0         0   0.00%   0               inf                  inf        0      0      0         0     0.0s\n",
            " S       0       0         0   0.00%   0               28328.571429     100.00%        0      0      0         0     0.0s\n",
            " R       0       0         0   0.00%   27138.095238    27300              0.59%        0      0      0         9     0.0s\n",
            "\n",
            "75.0% inactive integer columns, restarting\n",
            "Model after restart has 1 rows, 3 cols (0 bin., 0 int., 0 impl., 3 cont.), and 3 nonzeros\n",
            "\n",
            "         0       0         0   0.00%   27138.095238    27300              0.59%        0      0      0         9     0.0s\n",
            "\n",
            "Solving report\n",
            "  Status            Optimal\n",
            "  Primal bound      27300\n",
            "  Dual bound        27300\n",
            "  Gap               0% (tolerance: 0.01%)\n",
            "  Solution status   feasible\n",
            "                    27300 (objective)\n",
            "                    0 (bound viol.)\n",
            "                    0 (int. viol.)\n",
            "                    0 (row viol.)\n",
            "  Timing            0.00 (total)\n",
            "                    0.00 (presolve)\n",
            "                    0.00 (postsolve)\n",
            "  Nodes             1\n",
            "  LP iterations     10 (total)\n",
            "                    0 (strong br.)\n",
            "                    0 (separation)\n",
            "                    0 (heuristics)\n"
          ]
        }
      ],
      "source": [
        "optimize!(facility_model)"
      ]
    },
    {
      "cell_type": "markdown",
      "id": "d62a11f7-d999-4d09-aa23-f01cf696567b",
      "metadata": {},
      "source": [
        "#### Problem 2.3 (5 points)\n",
        "\n",
        "Find the optimal solution and report the optimal objective value.\n",
        "Provide a diagram showing the new waste flows."
      ]
    },
    {
      "cell_type": "code",
      "execution_count": 27,
      "metadata": {},
      "outputs": [
        {
          "name": "stdout",
          "output_type": "stream",
          "text": [
            "The optimal objective value is : 27300.0\n",
            "The optimal waste distribution is : [100.0 0.0 0.0 0.0; -0.0 0.0 90.0 0.0; 100.0 0.0 20.0 0.0]\n",
            "Facility operation status : [1.0, 0.0, 1.0, 0.0]\n"
          ]
        }
      ],
      "source": [
        "optimal_value = objective_value(facility_model)\n",
        "optimal_x_ij = value.(x_ij)\n",
        "optimal_y_j = value.(y_j)\n",
        "\n",
        "println(\"The optimal objective value is : \", optimal_value)\n",
        "println(\"The optimal waste distribution is : \", optimal_x_ij)\n",
        "println(\"Facility operation status : \", optimal_y_j)"
      ]
    },
    {
      "cell_type": "markdown",
      "metadata": {},
      "source": [
        "The extracted results show that optimal waste distribution would be: City 1 sending 100 Mg/day of waste to landfill 1; \n",
        "\n",
        "City 2 sending 90 Mg/day of waste to the Waste-to-Energy (WTE) facility; and City 3 sending 100 Mg/day of waste to the \n",
        "\n",
        "landfill 1 and 20 Mg/day to the WTE facility. The operation status of the facilities is reflected as follows: From 1.0, \n",
        "\n",
        "the landfill 1 is operational; from 0.0 the MRF is not operational; from 1.0 WTE is operational; and from 0.0 Landfill 2 is not operational. \n",
        "\n",
        "Therefore, even with the addition of landfill 2 to minimize costs, only landfill 1 and WTE facility should be operational. "
      ]
    },
    {
      "cell_type": "markdown",
      "metadata": {},
      "source": [
        "![Waste flow](Problem2.png)"
      ]
    },
    {
      "cell_type": "markdown",
      "id": "c434f326-28e9-4db9-a274-b2fe358379c3",
      "metadata": {},
      "source": [
        "#### Problem 2.4 (5 points)\n",
        "\n",
        "Would you recommend that the cities build the new landfill? Why or why\n",
        "not? Your answer should be based on your analysis but can draw on other\n",
        "considerations as appropriate or desired."
      ]
    },
    {
      "cell_type": "markdown",
      "metadata": {},
      "source": [
        "No. From the above, the objective function for the second scenario with LF2 returned a higher cost of \\$27,300 in comparison to \\$25,750.0 from Problem 1.6.\n",
        "\n",
        "Since the objective function is to minimize costs, under these given operational conditions and constraints, building a new landfill would\n",
        "\n",
        "not lead to minimimum costs. When looking at the waste distribution, no waste was sent to landfill 2. Moreover, its operational status was \n",
        "\n",
        "returned as non-operational. Instead, waste was sent to landfill 1 and the WTE facility. \n",
        "\n",
        " \n",
        "Various factors which contribute to increasing waste production from the cities (such as population growth) may lead to the increased\n",
        "\n",
        "waste management capacity needs. Consideration should also be given to waste management regulatory standards, regulatory standards applicable to\n",
        "\n",
        "the operation of the facilities; for instance stricter carbon taxes, greenhouse gas and criteria pollutant emissions standards. Lastly, under the \n",
        "\n",
        "current scenario, it is assumed that although the MRF is non-operational, it is assumed that the MRF can operate as a contingency facility for risk \n",
        "\n",
        "management needs in the event of instances such as a facility being non-operational due to breakdowns, unplanned or scheduled maintenance, operations \n",
        "\n",
        "ot other related events where waste generation would exceed the capacity of the facilities that are operational.     \n"
      ]
    },
    {
      "cell_type": "markdown",
      "id": "3b590183-8c1f-45b7-8b53-a61f6e14c3d0",
      "metadata": {},
      "source": [
        "## References\n",
        "\n",
        "List any external references consulted, including classmates."
      ]
    },
    {
      "cell_type": "markdown",
      "metadata": {},
      "source": [
        "Consulted with Akshara and research Lab member, Parsa Khayatzadeh\n",
        " \n",
        "Julia. 2018. Binary Variable (online) https://discourse.julialang.org/t/binary-variable/18093 (Accessed November 08, 2023)\n",
        "\n",
        "Jump. n.d. Constraints (online) https://jump.dev/JuMP.jl/stable/manual/constraints/ (Accessed November 08, 2023)\n",
        "\n",
        "Julia. n.d. Images (online) https://docs.julialang.org/en/v1/stdlib/Markdown/#Images (Accessed November 10, 2023)"
      ]
    }
  ],
  "metadata": {
    "kernelspec": {
      "display_name": "Julia 1.9.2",
      "language": "julia",
      "name": "julia-1.9"
    },
    "language_info": {
      "file_extension": ".jl",
      "mimetype": "application/julia",
      "name": "julia",
      "version": "1.9.2"
    }
  },
  "nbformat": 4,
  "nbformat_minor": 5
}
